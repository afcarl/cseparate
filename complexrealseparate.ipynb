{
 "cells": [
  {
   "cell_type": "markdown",
   "metadata": {
    "collapsed": true
   },
   "source": [
    "<h1>Compare Real and Complex Source Separation Performance</h1>\n",
    "<h2>Michael A. Casey - Bregman Labs - Dartmouth College</h2>"
   ]
  },
  {
   "cell_type": "code",
   "execution_count": 1,
   "metadata": {
    "collapsed": true
   },
   "outputs": [],
   "source": [
    "from pylab import *\n",
    "from bregman.suite import *\n",
    "import cseparate as cs\n",
    "%matplotlib inline\n",
    "pylab.rcParams['figure.figsize'] = (10.0, 8.0)"
   ]
  },
  {
   "cell_type": "code",
   "execution_count": 2,
   "metadata": {
    "collapsed": false,
    "scrolled": true
   },
   "outputs": [
    {
     "name": "stdout",
     "output_type": "stream",
     "text": [
      "Help on function cseparate in module cseparate:\n",
      "\n",
      "cseparate(x, M=None, N=4096, H=1024, W=4096, max_iter=200)\n",
      "    complex-valued frequency domain separation by independent components\n",
      "    using relative phase representation\n",
      "    \n",
      "    inputs:\n",
      "      x - the audio signal to separate (1 row)\n",
      "      M - the number of sources to extract\n",
      "    options:\n",
      "      N - fft length in samples [4096]\n",
      "      H - hop size in samples   [1024]\n",
      "      W - window length in samples (fft padded with N-W zeros) [4096]\n",
      "      max_iter - maximum JADE ICA iterations [200]\n",
      "    output:\n",
      "      xhat - the separated signals (M rows)\n",
      "      xhat_all - the M separated signals mixed (1 row)\n",
      "    \n",
      "    Copyright (C) 2014 Michael A. Casey, Bregman Media Labs, \n",
      "    Dartmouth College All Rights Reserved\n",
      "\n"
     ]
    }
   ],
   "source": [
    "help(cs.cseparate) # COMPLEX MATRIX FACTORIZATION"
   ]
  },
  {
   "cell_type": "code",
   "execution_count": 3,
   "metadata": {
    "collapsed": false
   },
   "outputs": [
    {
     "name": "stdout",
     "output_type": "stream",
     "text": [
      "Help on method analyze in module bregman.plca:\n",
      "\n",
      "analyze(cls, V, rank, niter=100, convergence_thresh=1e-09, printiter=50, plotiter=None, plotfilename=None, initW=None, initZ=None, initH=None, updateW=True, updateZ=True, updateH=True, **kwargs) method of __builtin__.type instance\n",
      "    Iteratively performs the PLCA decomposition using the EM algorithm\n",
      "    \n",
      "    Parameters\n",
      "    ----------\n",
      "    V : array, shape (`F`, `T`)\n",
      "        Matrix to analyze.\n",
      "    niter : int\n",
      "        Number of iterations to perform.  Defaults to 100.\n",
      "    convergence_thresh : float\n",
      "    updateW, updateZ, updateH : boolean\n",
      "        If False keeps the corresponding parameter fixed.\n",
      "        Defaults to True.\n",
      "    initW, initZ, initH : array\n",
      "        Initial settings for `W`, `Z`, and `H`.  Unused by default.\n",
      "    printiter : int\n",
      "        Prints current log probability once every `printiter`\n",
      "        iterations.  Defaults to 50.\n",
      "    plotiter : int or None\n",
      "        If not None, the current decomposition is plotted once\n",
      "        every `plotiter` iterations.  Defaults to None.\n",
      "    kwargs : dict\n",
      "        Arguments to pass into the class's constructor.\n",
      "    \n",
      "    Returns\n",
      "    -------\n",
      "    W : array, shape (`F`, `rank`)\n",
      "        Set of `rank` bases found in `V`, i.e. P(f | z).\n",
      "    Z : array, shape (`rank`)\n",
      "        Mixing weights over basis vector activations, i.e. P(z).\n",
      "    H : array, shape (`rank`, `T`)\n",
      "        Activations of each basis in time, i.e. P(t | z).\n",
      "    norm : float\n",
      "        Normalization constant to make `V` sum to 1.\n",
      "    recon : array\n",
      "        Reconstruction of `V` using `W`, `Z`, and `H`\n",
      "    logprob : float\n",
      "\n"
     ]
    }
   ],
   "source": [
    "help(plca.PLCA.analyze) # REAL MATRIX FACTORIZATION"
   ]
  },
  {
   "cell_type": "code",
   "execution_count": 4,
   "metadata": {
    "collapsed": true
   },
   "outputs": [],
   "source": [
    "x,sr,fmt = wavread('amen.wav')"
   ]
  },
  {
   "cell_type": "code",
   "execution_count": null,
   "metadata": {
    "collapsed": true
   },
   "outputs": [],
   "source": [
    "def rc_err(x, reduce_mse=True):\n",
    "    \"\"\"\n",
    "    Compare real and complex spectrum factorization and reconstruction with Mean Square Error\n",
    "    inputs:\n",
    "        x - the one-dimensional audio signal to factorize via its spectrum\n",
    "        reduce_mse - whether to take the MSE (True) or the SE (False) for each evaluation [True]\n",
    "    outputs:\n",
    "        real_err - list of Real MSE (default) or SE spectra (reduce_mse=False)\n",
    "        cmplx_err -list of Complex MSE (default) or SE spectra (reduce_mse=False)\n",
    "    \"\"\"\n",
    "    x = x-x.mean() # center the original signal\n",
    "    x = x/abs(x).max() # normalize the original signal\n",
    "    real_err, cmplx_err = [],[] # result lists\n",
    "    for K in [3,4,5,6,7]: # n_components\n",
    "        for n in range(10,14): # FFT win powers of 2\n",
    "            N=2**n;W=N/2;H=N/4 # FFT parameters\n",
    "            # ORIGINAL SPECTRUM (normalized)\n",
    "            Xo = LinearFrequencySpectrum(x, nfft=N, wfft=W, nhop=H)\n",
    "            # REAL RECONSTRUCTION (normalized)\n",
    "            Xr = LinearFrequencySpectrum(x, nfft=N, wfft=W, nhop=H)\n",
    "            Xr.separate(cls=PLCA, n=5) # real separation (PLCA)\n",
    "            # REAL ERROR            \n",
    "            rX = array(Xr.X_hat)[:,:, :Xo.X.shape[1]].sum(0) # Real spectral components summed\n",
    "            sqerr_real = (Xo.X - rX)**2            \n",
    "            # COMPLEX RECONSTRUCTION (normalized)\n",
    "            xci, xc = cs.cseparate(x,K,N,H,W) # complex separation (CJADE)\n",
    "            xc = xc-xc.mean() # center\n",
    "            xc = xc/abs(xc).max() # normalize\n",
    "            Xc = LinearFrequencySpectrum(xc, nfft=N, wfft=W, nhop=H)\n",
    "            # COMPLEX ERROR\n",
    "            cX = Xc.X[:,:Xo.X.shape[1]] # Complex spectral components already summed by cseparate\n",
    "            sqerr_cmplx = (Xo.X - cX)**2\n",
    "            # Append Results\n",
    "            cmplx_err.append(sqerr_cmplx)\n",
    "            real_err.append(sqerr_real)\n",
    "    if reduce_mse:\n",
    "        real_err = [r.mean() for r in real_err]\n",
    "        cmplx_err = [c.mean() for c in cmplx_err]            \n",
    "    return real_err, cmplx_err"
   ]
  },
  {
   "cell_type": "code",
   "execution_count": null,
   "metadata": {
    "collapsed": true
   },
   "outputs": [],
   "source": [
    "# Run the experiment\n",
    "rerr,cerr = rc_err(x) "
   ]
  },
  {
   "cell_type": "code",
   "execution_count": null,
   "metadata": {
    "collapsed": false
   },
   "outputs": [],
   "source": [
    "# Plot the results of the experiment\n",
    "plot(real_err)\n",
    "plot(cmplx_err)\n",
    "title('Real (PLCA) versus Complex (C-Jade) Mean-Square Reconstruction Error', fontsize=14)\n",
    "ylabel('Mean Square Error', fontsize=14)\n",
    "xlabel('Experiment #', fontsize=14)\n",
    "legend(['Real','Complex'])\n",
    "axis(ymax=max(max(real_err),max(cmplx_err))*1.2) # Autoscale y axis\n",
    "grid()"
   ]
  },
  {
   "cell_type": "code",
   "execution_count": null,
   "metadata": {
    "collapsed": true
   },
   "outputs": [],
   "source": []
  }
 ],
 "metadata": {
  "kernelspec": {
   "display_name": "Python 2",
   "language": "python",
   "name": "python2"
  },
  "language_info": {
   "codemirror_mode": {
    "name": "ipython",
    "version": 2
   },
   "file_extension": ".py",
   "mimetype": "text/x-python",
   "name": "python",
   "nbconvert_exporter": "python",
   "pygments_lexer": "ipython2",
   "version": "2.7.9"
  }
 },
 "nbformat": 4,
 "nbformat_minor": 0
}
